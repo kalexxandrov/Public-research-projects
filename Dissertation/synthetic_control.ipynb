{
 "cells": [
  {
   "cell_type": "code",
   "execution_count": 16,
   "metadata": {},
   "outputs": [],
   "source": [
    "import pandas as pd\n",
    "from SyntheticControlMethods import Synth\n",
    "\n",
    "\n",
    "df = pd.read_excel(\"data5.xlsx\", sheet_name=1, index_col='state_name', na_values='..')\n",
    "\n",
    "# оставляем страны, по которым есть полные данные с 2003 по 2022\n",
    "df = df.groupby('state_name').filter(lambda x: x['year'].min() == 2002 and x['year'].max() == 2022)\n",
    "\n",
    "# удаляем чрезмерно экономически развитые страны (выбросы)\n",
    "df = df.drop(['Bahrain', 'Kuwait', 'Oman', 'Qatar', 'Saudi Arabia', 'Trinidad and Tobago', \n",
    "              'United Arab Emirates', 'Chile', 'Croatia', 'Hungary', 'Poland', 'Uruguay', 'Equatorial Guinea'])\n",
    "\n",
    "# удаляем Океанию\n",
    "df = df[df['region'] != 7]\n",
    "\n",
    "df = df.reset_index()"
   ]
  },
  {
   "cell_type": "code",
   "execution_count": null,
   "metadata": {},
   "outputs": [],
   "source": [
    "covariates = ['libdem_norm', 'property_rights', 'government_spending', \n",
    "             'business_freedom', 'monetary_freedom', 'trade_freedom', 'investment_freedom', \n",
    "             'financial_freedom', 'gov_effectiveness', 'corruption', 'pstab']\n",
    "\n",
    "synth_model = Synth(df, 'tax_burden', 'state_name', 'year', 2013, 'Armenia', covariates)"
   ]
  }
 ],
 "metadata": {
  "kernelspec": {
   "display_name": "Python 3",
   "language": "python",
   "name": "python3"
  },
  "language_info": {
   "codemirror_mode": {
    "name": "ipython",
    "version": 3
   },
   "file_extension": ".py",
   "mimetype": "text/x-python",
   "name": "python",
   "nbconvert_exporter": "python",
   "pygments_lexer": "ipython3",
   "version": "3.13.1"
  }
 },
 "nbformat": 4,
 "nbformat_minor": 2
}
