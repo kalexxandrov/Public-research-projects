{
 "cells": [
  {
   "cell_type": "code",
   "execution_count": 157,
   "metadata": {},
   "outputs": [],
   "source": [
    "import pandas as pd\n",
    "\n",
    "df = pd.read_excel(\"IMFMonitor_Conditionality_Raw.xlsx\", sheet_name=1)"
   ]
  },
  {
   "cell_type": "code",
   "execution_count": 158,
   "metadata": {},
   "outputs": [],
   "source": [
    "df1 = df[df['Condition Type'].isin(['SB', 'PA', 'SPC'])]"
   ]
  },
  {
   "cell_type": "code",
   "execution_count": 159,
   "metadata": {},
   "outputs": [],
   "source": [
    "grouped_df = df.groupby(['Country Name', 'Condition Year'])['Country Code'].count().reset_index().rename(\n",
    "    columns={'Country Name': 'state_name', 'Condition Year': 'year', 'Country Code': 'total_conditions'})\n",
    "grouped_df1 = df1.groupby(['Country Name', 'Condition Year'])['Country Code'].count().reset_index().rename(\n",
    "    columns={'Country Name': 'state_name', 'Condition Year': 'year', 'Country Code': 'structural_conditions'})"
   ]
  },
  {
   "cell_type": "code",
   "execution_count": 160,
   "metadata": {},
   "outputs": [],
   "source": [
    "table1 = grouped_df[grouped_df['year'] >= 2002]\n",
    "table2 = grouped_df1[grouped_df1['year'] >= 2002]\n",
    "\n",
    "table3 = table1.merge(table2)"
   ]
  },
  {
   "cell_type": "code",
   "execution_count": 161,
   "metadata": {},
   "outputs": [],
   "source": [
    "df_to_merge = pd.read_excel('data5.xlsx', sheet_name=1)"
   ]
  },
  {
   "cell_type": "code",
   "execution_count": 162,
   "metadata": {},
   "outputs": [],
   "source": [
    "df_to_merge = df_to_merge.merge(table3, on=['state_name', 'year'], how='left').fillna('..')"
   ]
  }
 ],
 "metadata": {
  "kernelspec": {
   "display_name": "Python 3",
   "language": "python",
   "name": "python3"
  },
  "language_info": {
   "codemirror_mode": {
    "name": "ipython",
    "version": 3
   },
   "file_extension": ".py",
   "mimetype": "text/x-python",
   "name": "python",
   "nbconvert_exporter": "python",
   "pygments_lexer": "ipython3",
   "version": "3.13.1"
  }
 },
 "nbformat": 4,
 "nbformat_minor": 2
}
